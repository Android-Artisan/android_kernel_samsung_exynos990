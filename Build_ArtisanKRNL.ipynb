{
  "nbformat": 4,
  "nbformat_minor": 0,
  "metadata": {
    "colab": {
      "provenance": []
    },
    "kernelspec": {
      "name": "python3",
      "display_name": "Python 3"
    },
    "language_info": {
      "name": "python"
    }
  },
  "cells": [
    {
      "cell_type": "markdown",
      "source": [
        "# 🛠️ Build ArtisanKernel v0.0.4 for Exynos 990 devices using Google Colab\n",
        "\n",
        "### 🔗 Based off ExtremeXT's [990_upstream_v2](https://github.com/ExtremeXT/990_upstream_v2)\n",
        "\n",
        "### ✨ Huge thank you to Windblade-Furisode\n",
        "\n",
        "## 📲 Features\n",
        "- Can uild using Google Bolab\n",
        "- Auto Builds in 45-50 minutes for all devices with Github Actions thanks to Windblade-Furisode\n",
        "- Linux 4.19.325\n",
        "- OneUI 7.x support\n",
        "- HyperOS 2.x support\n",
        "- LineageOS 21.x support\n",
        "- KernelSU Next support\n",
        "- Fully open source with a clean commit history\n",
        "## ⚠️ Issues\n",
        "- OTG\n",
        "- No susfs\n",
        "## 📱 Supported devices:\n",
        "\n",
        "- G980F - S20 4G - x1slte\n",
        "\n",
        "- G981B - S20 5G - x1s\n",
        "\n",
        "- G985F - S20+ 4G - y2slte\n",
        "\n",
        "- G986B - S20+ 5G - y2s\n",
        "\n",
        "- G988B - S20 Ultra (5G) - z3s\n",
        "\n",
        "- G780F - S20 FE - r8s\n",
        "\n",
        "- N980F - Note 20 4G - c1slte\n",
        "\n",
        "- N981B - Note 20 5G - c1s\n",
        "\n",
        "- N985F - Note 20 Ultra 4G - c2slte\n",
        "\n",
        "- N986B - Note 20 Ultra 5G - c2s\n"
      ],
      "metadata": {
        "id": "GllJ2Cb0eSuC"
      }
    },
    {
      "cell_type": "markdown",
      "source": [
        "Fulfill Dependencies"
      ],
      "metadata": {
        "id": "FH21veIJfBNz"
      }
    },
    {
      "cell_type": "code",
      "source": [
        "!apt-get update\n",
        "!apt-get upgrade -y\n",
        "!apt-get install -y git-core gnupg flex bison build-essential zip curl zlib1g-dev libc6-dev-i386 x11proto-core-dev libx11-dev lib32z1-dev libgl1-mesa-dev libxml2-utils xsltproc unzip fontconfig libarchive-tools ccache bc"
      ],
      "metadata": {
        "id": "SuuTPcIFfA1Y"
      },
      "execution_count": null,
      "outputs": []
    },
    {
      "cell_type": "markdown",
      "source": [
        "Clone Repo"
      ],
      "metadata": {
        "id": "i18Pqtipe-hu"
      }
    },
    {
      "cell_type": "code",
      "execution_count": null,
      "metadata": {
        "id": "9DGA-5kXaiHb"
      },
      "outputs": [],
      "source": [
        "!git clone --recurse-submodules https://github.com/Android-Artisan/android_kernel_samsung_exynos990.git"
      ]
    },
    {
      "cell_type": "markdown",
      "source": [
        "CD into the Repo"
      ],
      "metadata": {
        "id": "48gsB5c-bIEJ"
      }
    },
    {
      "cell_type": "code",
      "source": [
        "cd android_kernel_samsung_exynos990"
      ],
      "metadata": {
        "id": "5V6cOYUVa9xi"
      },
      "execution_count": null,
      "outputs": []
    },
    {
      "cell_type": "markdown",
      "source": [
        "Make Both build.sh and build_all.sh Executable"
      ],
      "metadata": {
        "id": "cXgfJPE8bOw0"
      }
    },
    {
      "cell_type": "code",
      "source": [
        "!chmod +x build.sh\n",
        "!chmod +x build_all.sh"
      ],
      "metadata": {
        "id": "ixQfJpl0bOdV"
      },
      "execution_count": 18,
      "outputs": []
    },
    {
      "cell_type": "markdown",
      "source": [
        "Build individual Kernel"
      ],
      "metadata": {
        "id": "zxQXNhIqbhZV"
      }
    },
    {
      "cell_type": "code",
      "source": [
        "# @title Select Your Device\n",
        "device = \"Galaxy S20 4G\"  # @param [\"Galaxy S20 4G\", \"Galaxy S20 5G\", \"Galaxy S20+ 4G\", \"Galaxy S20+ 5G\", \"Galaxy S20 Ultra\", \"Galaxy Note 20 4G\", \"Galaxy Note 20 5G\", \"Galaxy Note 20 Ultra 4G\", \"Galaxy Note 20 Ultra 5G\", \"S20 FE (Fans Edition)\"]\n",
        "\n",
        "# Map device name to codename\n",
        "device_map = {\n",
        "    \"Galaxy S20 4G\": \"x1slte\",\n",
        "    \"Galaxy S20 5G\": \"x1s\",\n",
        "    \"Galaxy S20+ 4G\": \"y2slte\",\n",
        "    \"Galaxy S20+ 5G\": \"y2s\",\n",
        "    \"Galaxy S20 Ultra\": \"z3s\",\n",
        "    \"Galaxy Note 20 4G\": \"c1slte\",\n",
        "    \"Galaxy Note 20 5G\": \"c1s\",\n",
        "    \"Galaxy Note 20 Ultra 4G\": \"c2slte\",\n",
        "    \"Galaxy Note 20 Ultra 5G\": \"c2s\",\n",
        "    \"S20 FE (Fans Edition)\": \"r8s\"\n",
        "}\n",
        "\n",
        "# Get codename from selected device\n",
        "codename = device_map[device]\n",
        "\n",
        "# Ensure the build script is executable\n",
        "!chmod +x ./build.sh\n",
        "\n",
        "# Run the build script with the selected codename\n",
        "!./build.sh -m {codename} -k y -r n"
      ],
      "metadata": {
        "cellView": "form",
        "id": "LSvCo9yfbl9J"
      },
      "execution_count": null,
      "outputs": []
    },
    {
      "cell_type": "markdown",
      "source": [
        "Build ArtisanKernel for all 990 devices (not required)"
      ],
      "metadata": {
        "id": "Vj2fvPcNeAlr"
      }
    },
    {
      "cell_type": "code",
      "source": [
        "!./build_all.sh"
      ],
      "metadata": {
        "id": "V4DFMU8Id-uZ"
      },
      "execution_count": null,
      "outputs": []
    }
  ]
}
